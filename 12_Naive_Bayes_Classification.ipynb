{
  "nbformat": 4,
  "nbformat_minor": 0,
  "metadata": {
    "colab": {
      "provenance": []
    },
    "kernelspec": {
      "name": "python3",
      "display_name": "Python 3"
    },
    "language_info": {
      "name": "python"
    }
  },
  "cells": [
    {
      "cell_type": "markdown",
      "source": [
        "# Classification Task dengan Naive Bayes"
      ],
      "metadata": {
        "id": "TV2iqTPxYaBL"
      }
    },
    {
      "cell_type": "markdown",
      "source": [
        "## Sumber Materi\n",
        "\n",
        "- https://youtu.be/Sj1ybuDDf9I\n",
        "- https://en.wikipedia.org/wiki/Naive_Bayes_classifier"
      ],
      "metadata": {
        "id": "ZjLJ8adqYh-k"
      }
    },
    {
      "cell_type": "markdown",
      "source": [
        "### Materi :\n",
        "\n",
        "Bayes' Theorem\n",
        "\n",
        "Bayes' theorem menawarkan suatu formula untuk menghitung nilai probability dari suatu event dengan memanfaatkan pengetahuan sebelumnya dari kondisi terkait; atau sering kali dikenal dengan istilah conditional probability.\n",
        "\n",
        "![image.png](data:image/png;base64,iVBORw0KGgoAAAANSUhEUgAAATAAAAC0CAYAAAATrXCJAAAAAXNSR0IArs4c6QAAAARnQU1BAACxjwv8YQUAAAAJcEhZcwAAFiUAABYlAUlSJPAAAEDKSURBVHhe7b0PVFNX3u/9fV7vHbp618TlPA+s9lnmOijTaQmKhFYm3F6M10Ks8qdWyu0txFZEK4U+otwZkJlCsRXp1BSnBRkFmRkCd9oMtw742BJbh7R1kXEsYa4SnlFDV21YT33JPHWR9bTLzNX3vHufswNJSEggqITuD+uQc3bOn31Ozvme3/7t39777wQCOBwOJwL5f9gnh8PhRBxcwDgcTsTCBYzD4UQsXMA4HE7EwgWMw+FELFzAOBxOxMIFjMPhRCxcwDgcTsTCBYzD4UQsXMA4HE7EwgWMw+FELFzAOBxOxMIFjDN7XFa0lhai6SJbngWOrkpUdjnY0iz4xoi6rTUwhrGLucR1sRXFhU2wsuWZYYO+uBitF11smRMMLmAcYNSAspwsZKQsx/Lly7E6LQtZZJlOa5OXIyWnDK1mH4W4RcRrRyEGlFUoWsnSROwwlJNt01PEfS1PXjuxr6zMtVhNlguq9LBcl9Ye/2oUNseYtBAMpwk16cuR2+whD/dqUFoA6PIqYWT7nBPO6pDLzp+eR0q6+5pkIGX5aqwlotkz4iM0w63YXjSA5J8WQcGSAmND69bVWF5lZMuUOGhfTIbpue1oGmZJnOmh3elwOJTefbFCbGyiUHHqBksh3BwT3tmbSNLThGrjOEsUhCvH84XEohbhi5sswZcPq4XE2Fgh8+cDLEFi7He7xfTYonbhC7J85Wi+sOXIkPRlEAbe2ELyQbZ9qZelTNL3SpqwZl+vMJnDuWBIaHyKXpN8odHKkig3BoRDT0rpLZdYmnBFaNEmCtuO07MKzvi77Do800K29OaLX28TYp9qJEfnBINbYByGBUMX6KcSilVRYorIomgof5hAZuzQnzVLaU4j9PohqDfmQb5ISvLFetkKJ+RQPaJkKRLRqxJA94YzVgzfEpNCY7gJb7xlkeZvSh+eqHNIXt5uRMsgS5gLnCO48in5XBYPxQ+lJJEoJRJEE6sfJpNNTHKe1kNvVeOJzXJxeVquk2Lvmz3k+hD+rwu+BUb55ieQPaJDywlxDc40cAHjSFyzwkaLLQ8nQ3m/lORmZHRI/FR8N1r8dH70PrqdG/D4Rpm4PBUHLBeo2MQjLlFKcWM395PHHpBpFIgPIH5TIeL5Vi9W/LiIyCvBZpvqY1qpwQaVFcYPmci5uWWH2WxnC1NxXjTDGqjoeWEIoh6uSYDKK6822Eekue9+L4b8d8Jk7Ma45nFolkjp02E+2ojRvHLk0YVP7Rj1FXJZNh7fJEPPmV5J5DgB4QLGkbCQh598yFcpoPB8WG+ZMPAJeYyWpCJnk2RNWSwmOJVEgDwMNS9uWWD7E/lUETH0eKBdF5uw700TZPF5qPqfxGJi6cFwntDBEF2K0rUxuIelTSUOipVy2P5Mjs1SJJywthWg4NhUt7rTVIfCfb0Y9WPRUawXLUQ6iXUXnwSvUx01o58aoyu0eGI9FXELBkxOYqnGe6/nj0EddMMbsK8wbtp1lT9UAe9ZwWxeTgC4gHFEzBekRyX+QY8in8uBnto6tDoV0L7SgKJ4mmiD7bITsvtjAguQeQAmatWMD0BfW4MaMlUWZyHteTOxojrxwf+uR96KoI+6hNME3W/vwY4XNYiOl2MFTfNntRCWxpAcmW0Y8fxukQJFvzwC9flCFHg4/0XxOuTCjl/VQiMZlj64rUgi6AqPM/3GgqYqHUzRalS9USVZXJfJMa/LIL8/mCTb0NowiHXEklRErYCcaJR4PS+JX3oRfV8MZMTOFK1iTkDmkYC5YD1WiJT0Gpi+YUlzydVWFCwvQOtVtjyXfENrx1JQSN7ykVkBbiVWFbU1ojHaU4Hi4mIykQd+RzX6o4vQdaoLtRvdT/ko7H8h9s79S9nyVGzDw6LlonnuNdTW1IpTfWMXmrVAd1Ux9vwm9CAD8xEdxklxK9tHZFx+rCb5UipvJH+seDeBKGJtUFskEXMEFS8CsSKt1CRd4iJFPno96FSA3NJ2jD/6Gk73taFoJRNhux1DxAKMCXxJROydOvSu3Du5nRt/vkC5HAnEshsbZcscv4QnYGfrsJZWlQedUpBRWAm9b1W8B9Zj25F/VIby/1UL9b0scQZYGnLJcXIDVz+7lWUahTFWr/bJd4ApeS1yi3WT1ej3qlH7ix3429F8bPdTVJn3XLNgSHRW56D8V81obqZTGzram1H/Yh6U93k+cOScpw1XcGL4EvVypSJ5lYePbFEUlDu12EC+769vhCGUkIfhJjQds2Pw14UshKERJrFIOumDmsoNv+LmFjHV2SykVDmxdTrxohArUrRJlVo0tLivSQe62g6jaqcGcZ73KBGgoL6q60Y0tRphP10jhmdk5eyBQSzrkmJqYBed/3PhTBCegKnK0dV/Duc6SyTnKkH+bDPO0TT39EEXDu8h35oMqMnPROFvvD0UIkQI99QPQf2z/cib7qYKxOVWVkMV3htLU/mBmOfOYvfZkGJCt8e5sPOpVUfBYmxCWV4uas6wWze+CEd+psZQ/Z7JtEjhgk18WGWqZB9n9Sy4ZcaAiXzGJ0Eplvc8+NpF5IXigutrcWYaSHGrvg9JhnP46J9P4mQ3nY5A6w6w8me1BMF5xoDecQ3ylBYYuqZ/0bityFSlMmRfXWCcML3ZiBsl9P5xn8tJVLkrQW5Fpt0+HwhPwMhbNfq+aER/4yS3m4TqEY2U5p5WKJH9YjOqCult4BB/yB7P55uY6rqGVthUpSjdHKhWazrs0Dc0ijVblPGvwxCPe2meo+AgFolIvALKlR7nws5HW1OKbGoJXLdC32aYOHfZZnIOKhv0xMIwz+IBu1uYqVOefIbkhMZSxDxMHsl/D/DQXRgSg1RlqxK8KwMIzjN/ANU2mWYd1D41nb7Q4lZL9FbseNgzR3LIv08//Vstzq/HyX/yG/nZt5NYPvlvAqXEwqz/RQM01j1ePjFvHDAP0jtKjviHgoekYmkMeYE7cSOQ6+NsI+ouqLF1s/fbeen9YkAJbKN+XurkXMahQDSt5OQEZE58YFLMDyUVcQF+b9HBSrluwsB5aZZif7sF+kEZsp/OQxxLmwnO95rQapwUrb+GGtUdEFqjJM3JHkmesCy9kMUj4UE2b7ZjsjQTh7ynsyEbaUVLxzTlgnmFDdaLNK9KJCtDsTViIPt7stVfR/2Wxm3nB8UQB18xdJypQ+GrPeSloMVr+7UB48dEhlux740R5OSSa8mSfBlzTL2+9mvE/F4mR4zPRpPixYqNpDipnU7E3LWoUCFBdLQH4XsyIps2OL70c0VI0bGmthUrntoKZYBztv+bH9fKlw5yHaMRcx9b5vhlDgTMXVtDoMWGZdKsL46v3DccEZsJ68SKnneNcC7JmSamaBpIcaWxwYDozdkTQhOWBUYZHJho5qJe5Ve+CA6M/SubVbGaMYZs4+PIIdaZqadHfJDnL8RyLaPNe7ajUXT2WNC+Nwu5rweruI+GMp5cl/9zxev8aJtG6qfaflSyhS3HX2B+KzKlpSC3wYalzx1Gl2E635MJdbSpTmYd+q+TImRpFpqob45CRK2QfFfdIS2a3ixA1hadR5iBEyM2C2TKBG+huN4DHdlmQrzcuEXMdhB17IUlHZ/kd0M19OI90AvdliyUvR3kZXSfEglJ5Jz/4nlFpOu79rFi6MkbzliViTJ3YOo3RNQ8rpWjrQIZOWUweLg/LJfIvpIUUASxVL/1sIj82XOzV6hW0mYVZNo3tYmHxBWh5Rm2Tuwuof1LlnyhUdhC0/Z2z6oJiNi05LEDQv9X3cJucd9k8tPMRORSi5Dv1fTDP2Mdu1g+t3g3H/Fg3FgtpInrJAq73/XN+bjQvZdtf4ElLTTE3y3w9ZkJM2lKNC3ifejv97gzDL1J7sU5a/4jPS9b3vBuhsWZSvgWGPN5UFLjxEChqbgD/wjygieQw8xim9lM3vukuBG3ImBRISDUcd/hQN6eUqiWRGExS6aO4nBsMMslltFlSmJpSLNeOIzQva4XHbxxBa9h/xS/nQwr4qjlZoH5fJA3d6SyMhs5Ght6TzHLex7g7Hkf3d/LwxOzseTnAMXmHGhGetHrthjDYbAbvX/RIOfJQCUAjpuwBcw+KPk8aMBfUpI/H4oTxmN60XlLI5er9mgmxGrkc8mEjlsWgqPUCyd6jjZiaE0RSsQbVnIsi1wbw+y9YGYp6pxCiiJeubrlgu1kDQoySZHgKwWyK7vQtX/yXDxRLJO8ef2fL9QoRDm0L5Zi8duN0M+HOCXqSjgyjJw9O6AOXgtxe1iqRenzi6E/Kr3cZg8peh4z4J6iUuQFcMdwJglTwJwYtLL6vyVKJKySZiWIJTRsRFNpLoo7bIhWlaCN+j8mmpbYYBeDSuWQzfCl6Tytg+5EAkr3aFkVdxSi/qM4A/zrGGbdNdRlK4bdga4nyrDaM/brBw8hYze5OZX0PLpweKcysNVITkjM14h9ooZyWkKOpwswpdfd+SYnNGzkoBz6iiZY72qNK3lB1tZh+MkGVE0E294dFDuP4LX79dgXsHYzONZj+2CI3o+GnYoQaoQ5YfrA+oUDauZ78jetSRfyd1ULLcYrgkcHLQz3tsH9Ul7cJNs9NtU/IHUFQ6dqwa8XLAQfGO3iRNpHpnDIwhI9uGF7R9hNjk19X1sO9gX224nHIuttOiQsdC/Gja/GhLGv2cJs+DrM7W/eEMa+HPdzf90tbgjjX44JNwJ1MzQt4Wz77eTv6D+mZTNnuAm5mTrRjyXf2YmPKkOpc3ZjRM1yUhxDKqp6O1D0AEsOgrW5AFn6f0D9r3+KdR4mUF9DCip/R+c0qO1vhta3+vlyKwo2mKCe5lim2tUo/A0pQi4rQmdfFfyezekarN6lJ+99GbJ/8TEOZ/mxw8Rj1aEfWjR/RqxOljwfoBYbJ3L57LPP2BxHRJSxWTJZY5coVBtZYsj0CtXitjOwwOztwi53jWfAKcD+glpgA8KhTWwf09WKuq0rOk1b40nXCWANcjicOSEsH5hFbO1KUSP5R2w2ZKJpPOgMcKKnQQezogqnyVuIvok8p9OVqWy9oWnblgXkqgWDzOeuUaoC+7fGxiactIolQXwuy6IC74fD4YRNGAJmxoDbc/xoApJm/KTKsFiMfbBTTQiK84wOjScSsKOyyG/Eftz33eGkpAg4m3ZyliHWHEmBuPhAwuSE8bSRCZgSGx4LUM3tFrl/jCEyHQLhOvHT7oITfz5xywFjbQFqTs4ygGaeDQzCCZ3ZC9iwBRZWY6dImk2D1zjIRc2xwxnsvqPV5PV6YGcJSkKw2kY+D6nuzwvLBRaOvUyF1CRp1hf7iWroxCZCMqRW1qLEazALD8gJiQK2TB5a86hHq/CRH6sy5OnjAP66CMT8eq40+IcozinIcEfz00FC6IAgtT2webXYobWQ+dAtKppsHM0IuC9xYI4UZBXrYKT38O0aGIRz25mxgLkcDjiuOWA5IwWhUhRyuZjmmGE/XvHfl4p9tqv+q53psWyfGlCztQytI0DMf4qC47pPezOXUzw2lSx33BYd6Sak/NxySetdM6H/PFPRB+WIFtM8JhoOQpvdlJOHh0iSpqYTx3cGjl2zXpUENHXCKuSEiurHXTj5c9YuVrUVDe+y3hs+OId/OZqNG78pQ0Zh60R4CrXMdZ+oUPVjNaJ82hqK+2rSSn3wbyxHF+sF4mT3aXxsyEOUsQnFz9XBRCx2WUYtqtabUf26kdrwnAhhZgJ2TY+ylBSkpNK2bSz+i2D4iZS2J1ibMR/kSUmi6FhsI1NvGnasDPJWdPcj1t+QixQaiyUuSdg7XxCPnbFLP9E2T+wYkaSl13sOWTUV65F8cb2U1EK0umNOjTXIENM8psxitFsXQ1Vcj5PnTqP52elidKQ2ebSIqVLNpnk6x3npilSz/ZB399ZRD7PgYrMJpst0xgZDmx6y7JzAAaxWm+gaUD/i7dec2NdVC6ysR9TbMjAI5/bCnPl3iSGhkQ5PpawWem937EsIcWBzgrttqJ/hsjih0X8wTazlrejxie6aqN3dJbzzFVkW22T6DHnmg7SvTOHQeZbgpu+A1J6VtqWduPekNojpPkPBceYvYdVCho8C2dlq4Ho33n9vYRjuzvfeR/d1GTQbNaH5vzg+uLu3VkOR5G1WuUc0iit4AhuWkOXzZlh8hzzzgnUVRFuJePo1HUbUHGiFPVqN8v07PDpxDDQwCGe+cpcFjBQTCnagaIUTPW9PdgwYuZAizds9cCZpsePpmVdrcAju7q3jvbuScQ1KIxpFr69Cw0+lNqjDtC3tP8ZgaYB+tnCN1ZRHjeD9V6XBRWrKC7B2gw7jT7aJ/dqXqLzrif0ODMKZt9x1AcMiFUortYgzN6IxwgfydJ4g52COQ9Ge8oCd13GCwIZ3k7nMaCxlg2lspe1px6E+eBof/5KO6ENXtMP+OfmYrqaXdZWt2LwXh9ngIrW64+h6WYXh1wvxQv1Uh33AgUE485K7L2AE2fpaNFQmwPRqNQyRGosz3IoXXjUhobIBVY+yNM6McQ/vpixoQJs4kAaZ2rvQpqtCUUacR02jK2i8n8VqIQIlgzLRM14vCtFZech5mNjLHTq0+O3+JsDAIJx5x7wQMIpi53F0Pu+E7pkamG6HIRYVhe9Ef4d+zD10WLXdLfjO89OHV3CC4e7eOhXJj4RbBLfB8imtl1ZB8YiUMomL9V/vguvfxQROhDJvBIy+GRU723Dug1qob0f7m2VatJ1rg/Z29LFEh1X74BzaeBco4eH2WU3rmHcTBzn9LZ3j/uO2nMMYovtSJUDhez8N9sFMw2ZWaJDqEwE83cAgnPnHPBIwzrce5rPCmoSQhneTyYiV9qXDKy5wgj8OiJ1o+saSuS7qUfyTJljEkbXLp8SPBRoYhDM/Ca87HQ5nLjDVIavBDNc1K2zUB7pEDsXSJGibDiNvmtGunSfLkLbbhaqBZuS5O8o0N6Ggvhdj7n1Fx0HhHpj3G9pb7w+gfFSDrc/nQeU1YC/FiZ7y1ajGYXysCzwiEmf+wAWME7k4e1C2rgz3vPIZ6jeytHC4ZUTNmgqM/+xjHJ7VGKWcOw0vQnIiF1k2/vtTcTC8Z/DvB5shd3tgEM7M4QLGiWhUz5dDe6kJjRNjO86S+TAwCGfG8CIkJ/IZbkXBbhu0hnqPQWNmghPG6nzo76/H8WJekxxJcAHjLAy+ccDhkiF6ySzkh3ar5HBBdp+Mi1eEwQWMw+FELNwHxuFwIhYuYBwOJ2LhAsbhcCIWLmAcDidi4QLG4XAiFi5gHA4nYuECxuFwIhYuYBwOJ2LhAsbhcCIWLmAcDidi4QLG4XAiFi5gHA4nYuECxuFwIhYuYBwOJ2LhAsbhcCIWLmAcDidi4QLG4XAiFi5gHA4nYuECxuFwIhYuYBwOJ2LhAsbhcCIWLmAcDidi4QLGCR2XFa2lhWi6yJZnjRlNhU3kf6jYoC8uRutFF1u+y8zoOsyzvC8w+LiQ30rsMJS/AP2FMVhHHMASORRLZdJX1+2wuuTI3l6Fn25XIXqRlIxb5KHdVogBdScOF8Z5DADrRE9VPlrOs31RouOQvec4DmcPo2ZDBfSjTjFZtlSBhM1V6NjjRM3yPqReqYfGvf9g0NG3tSao9B0oiWdp4TJqQFmJHsPXrLCRrNP8ydnI3s5RK24szcaOyp+iSBUtJVICXodpuB1550hQAeN8SzlVIcTGxgqJ+3qFGyyJMva73UIiSU97qVcYZ2lXjucLiUUtwhc3WcIUBoRDm2LJ/tYI1R+yJMqH1cKax3YJ7efHPY7RK1THVgi9Afflny9+vU2IfapRGGLLc0XvPprvRKHilMdVuDkmvLM3kaSnCdVG91UI5Tr453bl/dsOL0J+i7Fcsoqfyh/Ge1kS0asSkEA+7R39UjHPaYRePwT1xjzIA1pMSmzQKMmnA/r3eohdRqCWR9UItr5xGNqHwx+2X775CWSP6NByQrLo5gYLhi7QTyUUqzxyuCiaXBfxKkB/lhV2Q7oO/rk9eedwAfvW4oD1MhUwJZKVcinJzed2DNHPeBmib5Hn9qP30e3cgMc3smJmABSbc6CmMyf+ANNVI2p2G7CipgElK8OVLoYsG49vkqHnTK8kkBM4YT1r9Unz4KoZ5qts3hdafBwmnw8nQ3m/lORmZFS8ClB8VypChnod/BIw75xw4AL2beWWBVYj+VxGLA8fv4zpTybykMmQmr0BSmJpWCxkWalAfDAdWroB6zR0pgdl66phf6oBVRs9/EcBccL0eiEKtuYiI7MMhsssmTrAS7NQ8Naku1/5QxXwnnVKBcDomUrkVxunisOwHsUlTbA4AzjRLVbQyyBfpYDC06q6ZcLAJ2RvS1KRs4laloGuQ/h558weLmDfVswD0oOkiBNFSsIFx8ka1LWNQ/Hsa2jYriBpNtguEzm7PwY+dpofopGzMZtIHyFpK8p3KkIqNjpPVKPu+hNo+CcVooZ7YDgjFW0x2A0DeeARNSmC0ffFkP0zq2kCGTQ1nShd1IjcKg8Ro+L1EyMSDh4PaAWaL0hyEv+gJFIiLgd6auvQ6lRA+0oDikSB938dws87JxzmkYC5YD1WiJT0Gpi+YUmz4UwNVieTfbDF28I3JtSkp6DwmJXkOjKxXrTATj6j7T2oKC5GMZkK87ej2hyDIsMH6KrRsBrIUdj/AsTdv5QuBMFJDJpRaXawF72D0uz0EAvmvBM5T2VjzGwmj7cSqh9R4QTsg4NkWY74B+LEZRG5HAmwYIwdZhJJxMqjJBFzhCBe5CoQq0q8ChjtqRCvQXExsaZ2VKM/ughdp7pQO2FB+rsOc5V3zqxhzvzZ8ckBIS2W1uAEm9YI6dsqhPb+MbbhVIaO5guJyt3CO4FXCQ1jNTletdDLFqfyhdCi9ZdHaao2stXIfmhN3NR1dgvdX5PvrS1CvjJRyD8aifVKY0L7LnouacKBPpYUEFpjGCtsORL8POlvuEbbKLS8nCZeqzWvBNq5v1pIVou56ZAwIKaPC917aR4rhG7PKtJL5LqTfVecYstTGBd699HjbxEOWTw39MOX7cIu+puqDwh9QWsVp7sOc5V3zkwJzwJTlaOr/xzOdZaQd4+E/NlmnKNp7umDLhzeQ741GVCTn4nC39jYmh6crcOe+iGof7YfeaG4TMJCDu0vpLx17UllaYT1VThJ0qrWs+W15Nx0eVJxYYkC2XsOo+sDst2515B9L0mLL8KRn6kxVL8HNWcizC17ywLbn8jnEhWSVVJSuDhP12DP71Zgv64ERU/mifeD470+mG5J3wdlkKxLilaKtetYkdaKIQv5WK9AUijlUDfDBrxzVo68pwDj76gvbxou2MRitEyVDJWn/2umzFXeOTMmPAFbFEXK9dGI/sYJtyypHiFFD5rmnlYokf1iM6oKqRQ4YHqzET2edxV5mHQNrbCpSlG6eRa1O7MgaomUN+VmjVRrRvmKFAZJWpT7Ro6KgmuUFBuWpKJKfxKHX8yGcgXZLnryjpRtJnlW2aCvb4Q51Ad1PmAegOk6+QzFMY+liHmYCNS/T1NYHm7FC28C5f+rFhr6AlqpwQYqjNf0+L3Xjz0NDid57IkIPCgVwTBsgeUqWX5A4eVzwtfjGIcC0TFs2ROSj8JdJiQ3HUf9a22okrV4+8R8MFOnPPn0DSPxzzTXYS7yzpkVc+IDo9Xx0k2Sijj2G/qyNIb9lNdNGDgvzVLsb7dAPyhD9tN58PAW3BmW5uAJt2gOGtDt4TizHtuO/F+DiFcHc+L6Iw55T2dDNtKKlg7qS4kMbMPDov9LuUrp/YD5JQayvyfb/HXUr7/PNUhEY1s34n9aJYmXSBw0GdKroeekQTxWUO6N8siLE8a3u2EhKapHPJzrlC8dRCyiEXMfW3bjIV6Sz0sGdeV0ImaD9aJ4FaaGkfhlmusQbt45s2YOBMwBywVqLxPik6BcJs364vjKfRuTW2nCWrGi511ycy3JmV1sTdgQ4dTkkP8UO4xnJQUTi0P1Y8g5eGQa8ZKQbXwcOUtICbmnR3wLz2fsnWXIysnC9qP94rKlYw+ytuiCVOsTSzWePIj/54rX+ZnfKkBWegoe2lIHk8MKQ/XkfmhlzPYj7G1gakRBJg0nYPdIIB4tRW2xGpaj21G4Ix+6U9Smj0dcovS1GzH4NkkBhVfMlhVNhwaQOiFebpiILXkH1Z3u+88OfVkWsjK3o1HMsAXte7OQ+/r0VyHQdRAJK++csGC+sNlzs1eoVlKHJZn2BXKdXxFanmHrxO4S2r9kyRcahS00bW/3RJOVsAnqxPfhZp9wQM3yptwtdJ+fqXPe7bDdIjReYEkLDfF3IudnZcth4+PEv3FF6D3aIrxzgd0F493CbnJPpZH7yfu+kO6jLW8MsOU7jL/rECl5X6CEb4FdGIKF+lMIqXEBzJVRM/rZC05e8ARymAltM5vJ+48Y8XErmBXkixOWt4qxNnk5lievRcHrvk5ZJ0zk+4JC8vafWkYIjUVqbMhm5d7rPSjLq8PYptdwZGeAsvAUZFgRR4sKFpjPh1RYijxWZiNHY0PvqSBW1Cyxd76M4vo6GD4klsstB4yHGmG6X4uqPRrv+2KwG71/0SDnSZ+i2Z3Cz3WImLwvUMIWMCnehaJAUpI/X4ITxmN6KS5rhfcPO/K5VJSJW+ZfLKzHXkBhTwyqek+i6kE7+pt1aPGMLbpsQGuDEf0mOynIzh7lYxsmalHxQBFqa3xuviAolkneu/7PF2qEohzaF0ux+O1G6G9DDJM8Iw95SXG456oBZTsq8PvvlqLLwCoEJiBFv2MG3FNUirwAborbz9TrEDl5X6AwS2yWuItPtPhFim1esTQ3hHFrr9BYki5+v+aZQ0LfV+wrEXexMk048AlL8kQ0xVmc0kQx1XvdsY5d0rGfaSF7Y8y0CEm52S8c0LDziM0XWi6x9FBxx8N55mM6Qo6fCzA9dkDoZ7u6k4yTa5v+TKMwFDRmKhj+4sCmh8aYZb7UK4yFfezwmel1mE95X2iEKWDkwXf7j/xNa9KF/F3VQovxild3LRLubf0LhihONDCQzI/3SN270IBDzwe39yXa3UmskHbQI3XGAjZO9iOJrHva8uYMg1NZgKI7vwuZG1+NCWM0kDcsyMvtS8/udYJB1x8TbswjAQj9Osy/vC8kwuvQcLgJuZk60Y8l39mJjypnEhVpRM3yYuiRSoqIHSh6gCVPwYme8jSUnXBC8WIXTtKgWBEz6tblo/UqkNf4Geo3suTTNVi+C2j+jJjxLGk6rMcKkH8UKD2ah6Hny9BD/XnxJej65/LJYmUwLreiYEMd+qEN+bh3iuXLl7M5znzls88+Y3OcGSPK2CyZKMLFJk42wQkZqWlG0CIbLUqK62UKhywsjWJlNZietZqUGVhgYlEgNn2iw7q+V6QmMKE1sfHAbYHNtOjK4XDCIiwnvkXsj4WiRvKP2GzIREMWJMZK5I8DUgXAMhVSk8QUEcfgkGj5IT4OitkEBtLo8X3diKlsQG2G5LJXP6phAYl2GP7gPrcZsCxqRs5/DocTHmEImBkD7ti/RxOQNOMnV4bFi+mnHWNjYoJfbJ+PSKETtL2amCJhuSQdXPZIcuhFPTdXe1C2uxE3njrsHS6hzkEeE0nnqfe9mzxNBzkBMYDiH2OILIfA2TqsJUU7Wryb1ZRWFyT4dIExJ4OJ8ME1FiKzFzDW3ouiSAqlSYovcZCvoJ92OEMRiv/APinXjeijnc0R1KtmKF9k25qiMgyrXkNbpdrHYlJArWb7u96D358IMa6LnIC45jJ5aM2hHq3CR599Jvo+ZjV9XOUl5hEDHUQjJwsZKZIQr07LElsG0InG+qXklKHV7BMQQwfR2FGIAWUVilayNBE6mAjZNj1lUthTMlD2NvklviG/cdrqiXR6nIIGB7QvJsP03HY08f64FgwzFjCXwwHHNQcsZ6QgVIpCLhfTHDPsxyv++1JvELarUxpnTBCnUkkWlmUAZvrydJih210BgyieqUhQhmb6ua7bYOnSoTCvGPqRaCiJ6E7d0gV5vHJChEw9BlhCeGFbr0pN2VO/LyoyJxBL83C4+yTKxR4/ZNhQ2YWTZJlOH/3pHMrjTKjLz0XN6ck3mu03B9EYtQNVz/qOACRDdh3Z9oNmNtJPNLR1p3H4afIqvVeD2pocRK8gn4Y/49zHJ9Gxh0h+fBEO/tN3oHu5ad43++KExswE7JoeZSkpSElNQW6DFIRKMfxESttD334zQJ6URGweok02Vkz0x8oSNDRqkeo0IP8h8kbNrCOFAWbvTdP2chITasjb/aHkDOT+pAmmEZrmgKE8BcWdnm97ut5DWL2jdaJnDQw2IZcec3nuNMUXJ0ZsVMqVUKnueHP0CGSuB9GY2WAifHCNBQZz5t8lhoTGJ2P9BMFOcuNr32ghGjzrJ/7LzYzjwMLEHWQbahDrtx13J4J0iDGf39wd15f5cymaToz/U1YIvcECxuztwjaxFni30P05+T0eSxeqTwXuGVM8Tsk7Pm0VOZFIWLWQ4aNAdrYauN6N99/zfSM6YarNQkoCsYrK2ZuVMtqN34tvz1Ron7z7niDne++j+7oMmo2a0Pxf33bCHkTDDzMcTIQPrrFwuMsCRm7kgh0oWuFEz9uGyaKbiAV9Pb5DZTlhPNJKCnsypFbumyb49U5hg+FtIq5JWuygvhdOUMIdRMM/MxtMhA+usXC46wKGRSqUVmoRZ25Eo5dfIhox3ycf92Wj6sfk5nTZyE1eiIq3x6Hc6RP+cJdwniB5NsehaE+5x8g+nMCEO4hGIGY4mAgfXGPBcPcFjCBbX4uGygSYXq2GYcKvrkDJK7XIvn8QdanLsfyhfDRejUN55wfomhL+cBeggbCvmpBQSYorj7I0zvRcs2DoU/K5LAflv2pGczOd2tDR3oz6F/OgvM/TbnIBrJumYNBeSyqG16H0WWqrWWE45dG17jS4brIZTsQyLwSMoth5HJ3PO6F7pgYmtyEWr8Xh//0R/izGP53D6bZ6aFVBQkW/Q97vZJVgbpOwoMOq7W7Bd57vxPF5YAlGDHM1iIYHYQ8mwolo5o2AUclR7GzDuQ9qoQ7HvFLX4tw5sg+2eFu4V43aD86hLYivhePNnA2i4YZawbMZTIQPrrFgmEcCxlnYzOEgGoSwBhPhg2ssGLiAcW4zczuIxlwMJsIH11g4hNcfGIdzO7nYhNycPqz75y7WXGgusKE1PwO9D3eha6JvOU6kwi0wzvzldgwmwgfXWFBwAePMY+Z6MBE+uMZCgwsYZ34TX4QjB+XQVzTBGmZohPXYPhii96OB1x4vGLgPjBMRuK474IyKRvS9LGHGuOC85kRUdDSieKuJBQMXMA6HE7HwIiSHw4lYuIBxOJyIhQsYh8OJWLiAcTiciIULGIfDiVi4gHE4nIiFCxiHw4lYuIBxOJyIhQsYh8OJWLiAcTiciIULGIfDiVi4gHE4nIiFCxiHw4lYuIBxOJyIhQsYh8OJWLiAcTiciIULGIfDiVi4gHE4nIiFCxiHw4lYuIBxOJyIhQsYh8OJWLiAcTiciIULGIfDiVi4gHE4nIiFCxjnNuJET1UWsjLXYvXy5Vi+fDXWZpLlnGLoL7NVgmB5qxC5WzLE7bNet7DU0LF3lk0cP9j2zhOVyEpPIfkkec1vhY2l327sb5M8pq0Wjzubc/TirA65OVlYm0yv93KkpNPrTacMpNDrv7UGPSMutvICgI7MzeHcVj45IKTFxgqxRe3CFyzJL/Z3hF1ryHq72oUxlkT54ni+EBubJhzoYwkz5VQF2T5RqDh1gyVQvhDeKVlD0ncJ7V+yJArLa+bPB1jCnWH83d1+8jhbhoTGp8h1jM0XGq0siXJjQDj0pJTecomlBSPAbzJf4BYY57ZjvWiBnXymKpWQS0n++YZYBvelIi9DjWiWRK24QWs/+YxHXKKUMlPMF8zkvxKKVVFSgoiL/MUg9enHoZ48GGzDwySvcqgeUbKUO4N50ET+++ZxljhHcOVT8rksHoofSkkiUUokKOhMP0ymEO1Lv7/J/IELGOc248SIjRaL5Ih/SHx6AvOAFs3dHajf7ClzVgzRzdenQrVESpkZVlgsRD5VyVDez5JE4qBtPImOumzIF7EkOIiQELFcokKyiiXdEcwY+MQJPOyRx1t2mM1U9v3jvGiG9Tpb8OXCEAbp55oEqCbOjWKDfUSa++73YqSZYPj9TeYP4QnY2Tqspf6CoFMKMgoroTc72Iacbw8WDFDjAiokBBKF60bUbClAQV4KssoM3r6nYQssVwHFAwoigU6Y3ipGQX4WMjx9VC4bel4n6VsKUVZeQL7TweR+uK9ZMESsETkRT4X4MDthrM0l+8hFSmYZDJ6+uFsWWI3k8/vjeL+M7KuqDLlpWSjrtErfT+CC7aQOxSQfheWVKMxci4JaI+y32NcEh1mPysIsFBRXoix/LTmvVlgmBIduX4PCHHKMsgJkbW2CiZyjfJU7jxQnrG3kmhzzPTb5xlSHwn29GL3JEnxwW7zq+CR42XOjZvRTY3SFFk+o7WjdQf2T9Jq3wnCsDAWFxeRcslBzmojpdL/JNOfvPF0j+twyUgqg6zKgprAAxTtysXZHK6we12fOYEXJ2XHzhjD25Zgw1n9I2EJ9HGRKe7lXSnNPtgGh+81dQrr4/Rph26+vsI0XOJZGIX9NrJC4qVroG2dp30Ysh4TMaf1f40L33nSh+sMbwsAbmVP8M2Mdu0haolBtvCEMHc0XMve2C+8czBfWxG6R/Dtf9QrVmxKFRG2jMMTcR737YoX8o+w+M1YLieT4FT3Sl9TXlP5yn3CD5WtiPYrbV/dYtdD9pbR+70v0vq0WesUlyjhJSxdi1buElgvsgPZ2YRvZbsuRIXGR5jOR5O/Ah8xrdLNPOKCOFdbs6yVbjwv9P98iJCrJ9ja6/bjwTon07LjzOMHNIaGlaI2Qz/ZLGe87IGwh91RvQIfUmNC+i+4vUzh0niVRvh4QGrWJQuyabWK+x3uk60DzSo+d/lKvcKWnglxXcs++9O40v8l0598tND5J9v85+U3IcqwyX2i8QI77FDnuTPxuMyA8C2xRFKLvi0b0N84JhVY9opHS3NMKJbJfbEZVITVBHTC92YgeIvB3BPJGbSJvwaxSvc8b5PZj6mlBPzE4nQuowmc22AcHSSEOUK4K4P+6bkL/9RzkqK3oO0PWTEqCcgX7jmC5JPmvokYqcHBUi7afx8F+hhTz1m+AeoUTPa9WQD9MioN7SqCg5gaxHPrPxyH+AeloZouJ2DJqKJLol8SCO+9ETrYaVpOJ5EuJpEfixPUokuUih7ayCtn3Seu7viYf8TJEM+vB3lmBig4b1NoqFK1k9s3SGPHcLGfNsJFSyZ76fix+thTl65nXaNFSxPwjufvf7of5bCNqmi2QP70DRSvo9jIs/p6MfLrz6MEiBYp+2Qa1pRAFzVY4qOV1yIUdv6qFJpBDym1FLnHBfLQYxcV0KkBuaTvGH30Np/vaxHxbrH+FZq0CI5eof1EN7U4N4sizmvNsOfY/8f8F/E2mPX9jNz79/jpoHEPE7iYW5eYilKyMg+KxHBTVlCDH43edM5iQhcXQkS2iiosq+zlL9OEKU3rxbfohS7zNSDU75JibDgl3tk6J8NWQ0NdD3nDzsermjkGtK/qb+6tBpG9y8oZ2WwnEsqDWz7bjnnbagHBoE92eTE8Sq0O0WDz4sl3YRb9TbRF2v1QtVJRsE/K37RIO9VwRpDWvCC3PkO+fItbZTTFBgllEsUUtwhcT6cxyUVYIve7D3CSWhJJaJG77a4hYGGSd2F3CO1+xJMrnLUI+zcczbwm/3EutDR/rR+gT90P3/fIe+r3n9WDnSO9Rzzx6QiyxRnoeqgqhO9j9FGqNr0i/dB2e8bk+bqb8JsHOv4Vc8UmreW5qVKdnDpz4DlgusNgVUuZWLpNmfXF85XZIEvPrdpSF/WC5IDpfIHskmbxr7zBLFFBnkbfqfKy6uWMwB7y/GsTRbrzzSTyxOqRF4x8MxPpRI3W9h5121YLBYfImf/YwOjVj0KU/JFoiE1htoPaZfGMpDu+vRX1jGzramlGeFSf5fq6ZMUBW8PYtEc70wXCV2B0qzaQDn1gutj+RT6UC8W5D6JMBmK7LsOFHamn5qhlm6h2nFQIeFQpOyxCoHSN/6Cb+1UTu7yVKJLDzEhkckPxfyih8M0iLHx7+QPc5/ojs08vhPonzjAG94xrkKS0wdE31iXki1aKGUONLcfsXV6u8rw9jym8S9PzjQO1Zi2gCqqBU+ViUt4HwBcz9w1NWJQQQChsxz90CRkzVVWz2tmLBACkuUNSk+MK5CwySIhN5QHxvePoSMx7TY2R9KtT0wXH24P1T5LfauAF5S4yo2dokFkGkB0MmuiVUO0uR8zDQ30eLfjboS8tgcEZhMVkv+u993hIuJxzfkM8LksDFP6iE+a0C6M7SL0mxkxR1nOQ+3LB5MYzVBWiiIQcXSLGHiIxnUVd8gJeQB1hlQ2thJXrG2RfL5OKDKkGKpWfJi3KJBkXa1VLSihgs9RAEi8lM8hyHovz/gnvoLfmwHGLpkUJEmD788Q8qYHo1C3XSO3cC6hTPfxMo/VUz6n/RAI11j7eIe8FqUckZBK3xJTgGaVEvQMhIgN9EJOD5U6GXXhqzrzWeGeELGPvhKalx8dKML+7aD4K84Ank3CfNu3Fd7kFTeSGy0tYiI3MtUtJyUfx6D2x+/UfuGpAMZKRnYG1aFgo9aoBcDgcc18j0qVl8s1H/iTzaJaXRm9oXhxUGWoOVKe0vI7MAZccs5GdhXDdBtzUDKclSTaph2AVrVyUKxXWzkFXoUeN1ywHT6wVIoTWvKf5qryZxEetAX0uOm74Wa8mxU1IyUFilh2dFrZVGkaetlq7HWyY4HCY0FeeK+cyi+Zxm//MBxzB5cZFPxWrl5A3vcsBYX4iKjihkb2CWzR8H0EOuoUa9AWNv62FNIm9vkmy9RF/37tgoB8ZoCEBcHBQXjei+/gMoNq2DZgVgH/O4aA4zdDvy0WhywD46Qn5HYg390IK+nn/AD8RnmjxgJ+iDuQ4bHAborUlQEWtJyqscypXuB9+EfvoAq8iDaO1Gd5QCSQoNNOvJVzbpvCj2E9XkWHJoX9kP7TI11tFwg1E7RtkN5PxUhzc6iB1T2YBy9Y+QrJaRxBvkLibQmr4GA5mhebSi/6MVSPCwVCfFi/m8FimgnU7EJoyJaWp8PZAspQDxdf5+k2XBzp8keNUa3wFYUXLWSFHStFxMyv0WlugFq7Wg6zxWLfR6lp3Jd30Ht4i1ROl73xGufM1SjdVirWWitmVK2fwKOV5ibLqw+12pXH7jQqOQr0wUdv2WOgdY7UeAacubk7U5lKGO3UKmMlZYU9Qo9DPfwvipClLuTxR299CqQ+rDSRTSD/aLtVnifsixEul5jH0h9L5Ma8NihTT6PT2Xl9NZbZg7H7uFbj81kEMdUq1sovaQ0M9quwRrCzkPso37GpHz2qLcJbTbmR+H5CmRHJvWSI1ZWoTdm6gvxSeKfJ4w9rsKITM7U0ij50Ovw5p0cTkzO128XmLakx4+n/F+4dAza4RM7TZh2952Vpv4hdC+K1FYU9I+4acaOk6u26YtQv4zHjVg1nZh95PpQv7uaqFiL9l+1yGh+xL7zt4tVJDrlP5YprDt6BDzi40L/W+Q321TvrBt226hne2n7+U15NofEPrYppPr0eNNrid81Scc2pYupD21W9i9LVPI9zwe5eaQ0L53i5C2aZuwe1e+kLmtQmj/ZIwdm/A5yVP2GmFLyW5hG9lvy+/Ib0mW6Xntmsgj4atuoVoboLZRPEa+hx+tTzhAr+9jtGWBdK+kbcoUdv92Oi8YOb/j1cKBXw+QOT/4/U0Iwc7/Urdw4OVGoTeAL3yuCVPA3E5aMinJxfYSmxvCuLVXaCyRxGvNM4eEPi/xEoT+n2eK4pW4t9vnIrqbQriFhDHeLeymD4WHg/LKr7dJD8WEo1Wi72X6gHs6YL2Z2M7zQRKRxEesXhedxFuExgvk0O4KASWrDv5Qqp6naaIwUsFxVxWzamV/lRpf/HZXgONK1f/u/fUfTGPXZdKRTau9x8mZt2il5Vilf4GcRBIBcd1ZTWvIiyG4K5jDuVuEWYR0O2kJ1/Uo/oFn8OpDWL1NB/MtFap+eRofd5ZD7VkmPluHGmIGO5GK0uezQSuSJ4lC1H+kn7QZyaSp7DzzB9GshWyx6Pug348MW+FYQkzrtZ42s4f/i5i+UxjVQ/cmKZKRo2Y/t8PbeWoaIIUHOeLj4+C6YMMoMaHVK93FGXLoTVoUPUBm1Hmo2qmFdk8zGl5QwHzKAMvmPOSR72zvGck+COTYKs9KDXLcuteN5LjE5H7e57iU/yB9WIZP4o8jMuSsV0N2zQqbWBRORd7/IMtk27zCKmifLULt0f3I9r5wPpDjNP8Zn3322Sync2h++o4UBDicWfF3VMXY/MwZbkJupk507sl3duKjyhAK3iJ26HesRc0ZMru+Fh+1aH3Ky2bUrctHK3UAFzTjs/0aMdXRWYyUl2i5nTzGVBzUqcjR5EH1gE9tx+VWFGyoQz956Kt6OyTB8cD6Vi6yGmius3H4z4eJCLjgvEbK9WcM0L3RDVf2a+is0XiIqg2t+RmoMwOaV8hDnT9d1aIVTVuyoCN6l1p5Gh07J92dplfXorDNDiwrQtuHVZIDewIH9MUpqBErcKpwurNI8hudrsHqXXo4yTadfVUI9QrfDeiLi8MJBn05zhmiHTZLpHgPWtSgkdIsMRTccSNkckcve3Fp8nuvSOnxPjHqerKIIx07/6j3PqaP//Iogk34ZmhZvkKoPtgidF/w43RwxxuFEk0sFiXputuEdjtLE2GxQPS7fX6KtSzmiH7vWeylRUnfNA6HIxFWEVKqxaCokfwjNhsKl+xi1TG1pGhthS+O8wPseyVUqkkLBjI1ars/wMmWelJ8y0bqUmojOdFf3wj9NWkVitSyn1iFj6aKtVneDMMuVqeTvT/XgJPdJ8Wpo7ketZVFyF7px7pi1fFi634fa84Xy4e9UnWzZh02LBWTJC7bMDJdba2ZxhzRGRnUj7jtLGIVsvAT1Q95KAiH40sYAsbiPSiPJiBpWl+MD/dGsSJjAuRTXCx29JokYZQX7IB2JZm5ZYW+LAurU2icTBQU6/NQVHkYHd1VkAqXnlgwZJH8X6pVk0KgL6WNVGnlNSluMl+cYkXwWBmKxcrCKlTJQYpwZvT2SD677IwcRIvFyeUoO0mOK4vCd8VvgBVLp/qVTOScRalSlaI0i11M5zCGxGtMAyNnExFLiurFUkd5s5tWo7jTHb8XqVjQtDVrosPA5clrWQd/0pSR4j7XArSG2MliKMxpJ4WcgMxewFi8B0WRFELUryeriOCJIjKOcdrWzAPne01opb6xFVpU7WF+KJMBOiIMTocdY35iuWSaVKjdsWUsspkGzCqY0eJ8rxWtl5RY9yPqK1MimYUfjX/NgnU8uWVHTzm5ud9y33R2WAYlUdK4dxiIs30w0muyJBv/bT3Juakbhs/J/Fpy3Psmo7OnHHeYnDP1jS1JRdVPme+LQixR0ZZcpoQyQIjd9ITrxP8zmvNn9MvOQ5QoaT+JtuelV498c+2E1U2n0+f+BW2F9IovhTzktnp2GEppz63FXpa/J/KnD6NzD73RSClDEdqLkjNzZixg7kBRyxmzVFQiKIgZFTBQ1B+ybJSWpJKf1grjCSMcYhCqC7auSuS/ZMANVQnaDLXQuGstY2LEh1pZ3IzX3NaJywbDq60wRqtR+qJHJUCUDN8Vt1uMGGK00EDCF2qtUP+4HDSGkN5Q2QXlYmS46YQeVnew7C0XKVq2oiwnFy238lC/061+gxgSi5ypSH4kRCvowQTERxHrq60b8pJSVlOogPYFrXgensd1mJtQuE2Hofhs1Oo7UOQhVLSJFpU62X8NZvlxgiE1CpdBpfS9klFQq9WQL5N5dz0zLf47Q/RlTjsp5PhlZrWQ1/QoTq2B2/PlS+rPPkKH2OtEaNjf06Gu04RhuwtR5DeOkiuR83QRtBmsLZsHtH8lXYsBtG+6qHtJwq3FWLqWCOFzeVPaGzrO6FDR0IMRpwyyOAXyXqiC9mEmfAznRWLVNehhsjohWxqNqJv3IFqpxhP/QwuNZ62m04S6Yh2GHyjFEa+aSX84YXq9DHVdVrii5UjKrsJ+IoSe2zg/1aPuCDkPG5EmctJRMSug3lyKrZsViPYJq7D9phh73gVyDjZ7CRtnpligy8xF07AatR+3QSv6Jl3EoieSFk1+a1qb/jJQayghr5m5gtWkR5fj5G/Jfn1DZjhzQnhhFBxOJHC1FQXr6tCvImLSzsSEhtq8Dhz8ZRHkZ2qw/Ewy/uU1NaxvVeCN8w7Yv4xGSVMz8h4glnRePnSOPLR9WArXq4XigCRXxpei/I3DYtyfBG3iVoe6VjtksX/DyFck5Ww/XIVt+OhnzGchrtMI3e/M5AW3FH+78Fck/fQIysnXxtoX0Hh+CGOLtXitNAa/bzaSdb6D0fN/g3o/XcfzNcj28/YgsGwpXJdsiHmuAfVZkvEgvey7MXrvUnzHPgJZXj0O5y/QYiwVMA5nITPZiiJtImwmfY1v1z2ETw4ImbvahS/Oe3Z2eEVooR0Bxm4RDv0iUGeIoXRSOC70vpxJ1qGd/LE0OtgI7YKGdlJI9ysOPkK2E5uq0RVYixTWTY0Ea5rn7nSRhhzR8BvaZRD5dug4bWGSLlSfYuFAVhrWQ/YnLS04wozE53DmP1K3SjLkvXJact63arHCoUTyI97uDrPZAsXGHDjNtPcIDbKfoh7LOBTt0ZKi5X/Gv38ZoDPEEDopdJ6sRsVvrIgr2IsSsSNAJ4x/tCDuoTj828VhxCmVJJ/UTycXO1SUOix04Qb1K/9f6nOTcHcoqNleyjpdlOEfHlRD+1w2FBebUPOqCa7NpSjfKPlVrGfNsGviEH+HurC603AB4yxw3M3KPJzpUfcgahlZFv2KUqsQ2o2N6sddpBhmh8lkgWzz49jgrkSirE9C4cE2lKwySaEy6zcgT+wWyomeE7TPeM9uaVgoT7wCCnGQDge63+shaxJRudqNmqpiFOaX4fffLcWRH6uR8mIHOa4N/WdpTbQaqWqWz8tSjbosTupni7by6HnXSPajwTp3l6wP5OFwZxtqN8ql5mwkKcbZD11tGYrzC6D7XIPD+7UeA5csLLiAcRY27rakE2JCkGmw/7el0og9F3vQ/VU2NvxX6StcljrtU6lou1MJC7G4Frs7CJzSGSJtD0wFcrpOCkkeaDc3y3JQqqtFbV0z2ojoNP84G3FMqybyqVJMjCQkBXRLgc3iagE6FJSwwzpMY/aINVZTj9qaw2ju7EBbnRYqn0quhQQXMM6CxmkeEGvNZcoEj8bzUZDdR8MmiPX06xbINuVNfCeJBu2fi8nXLWpxRUO9kTrB/XWGSIp3VL+m7aQwikb3ANGLfWqaaU2oVDh05zNVoWDC6UDvWZJCLLL/ph6DvrQYencTQq8OBSlOWC/+G6L+E52PQYxbqBkuh3OiCLrQ4ALGWdC4exGZbJXBcNlgrH8B1SeUWJcx6QuLupeqkBM32BNvPd4Ky8ZSqbM+2vpkSmeINDCaSM60nRSqSJGPSM7oGIt5JNxywNywHfm0o0qSJuXTsydVC2xU0WiHip93o/s6EeA0DTQacqxrdmJvMWg8ZHk+Kt/9f/HwozTMZwz2UfYdyZGtqwy55foAnYNGPjyMgrMgoV1I1304hrGLNmLLEAtsqQLyiWKXazJ982F8rPPozok2W/tJDVovyZAk/xucy7V47Z80oOFiVNjMDS+g7AygiPkHrNvzGrTUIX+1B5X/dAA2uQqy68SK2pyAIX0Lhm8Rqyy7Fod3KhDF9qu/tlTsYsl+zQXF5nKUboxD1CLa5CsLuq93oLOlRBpdaeJYN/CDxXHI3l+LPGri0V55q3Xo/VoB5f3jGHFGQUUEtkjcD4tDPEvkUxmDcesYFm/agfKnVSz/Cw8uYBwOJ2LhRUgOhxOxcAHjcDgRCxcwDocTsXAB43A4EQsXMA6HE7FwAeNwOBELFzAOhxOxcAHjcDgRCxcwDocTsXAB43A4EQsXMA6HE6EA/z84TewJMBYkdQAAAABJRU5ErkJggg==)"
      ],
      "metadata": {
        "id": "mE1Ex8hTYpTj"
      }
    },
    {
      "cell_type": "markdown",
      "source": [
        "### Dataset"
      ],
      "metadata": {
        "id": "Lp86mCwHZkm7"
      }
    },
    {
      "cell_type": "code",
      "execution_count": 1,
      "metadata": {
        "colab": {
          "base_uri": "https://localhost:8080/"
        },
        "id": "6TOyeeh2YOiP",
        "outputId": "bba53089-715a-4bcd-cd75-8f6dcf47a2ed"
      },
      "outputs": [
        {
          "output_type": "stream",
          "name": "stdout",
          "text": [
            ".. _breast_cancer_dataset:\n",
            "\n",
            "Breast cancer wisconsin (diagnostic) dataset\n",
            "--------------------------------------------\n",
            "\n",
            "**Data Set Characteristics:**\n",
            "\n",
            "    :Number of Instances: 569\n",
            "\n",
            "    :Number of Attributes: 30 numeric, predictive attributes and the class\n",
            "\n",
            "    :Attribute Information:\n",
            "        - radius (mean of distances from center to points on the perimeter)\n",
            "        - texture (standard deviation of gray-scale values)\n",
            "        - perimeter\n",
            "        - area\n",
            "        - smoothness (local variation in radius lengths)\n",
            "        - compactness (perimeter^2 / area - 1.0)\n",
            "        - concavity (severity of concave portions of the contour)\n",
            "        - concave points (number of concave portions of the contour)\n",
            "        - symmetry\n",
            "        - fractal dimension (\"coastline approximation\" - 1)\n",
            "\n",
            "        The mean, standard error, and \"worst\" or largest (mean of the three\n",
            "        worst/largest values) of these features were computed for each image,\n",
            "        resulting in 30 features.  For instance, field 0 is Mean Radius, field\n",
            "        10 is Radius SE, field 20 is Worst Radius.\n",
            "\n",
            "        - class:\n",
            "                - WDBC-Malignant\n",
            "                - WDBC-Benign\n",
            "\n",
            "    :Summary Statistics:\n",
            "\n",
            "    ===================================== ====== ======\n",
            "                                           Min    Max\n",
            "    ===================================== ====== ======\n",
            "    radius (mean):                        6.981  28.11\n",
            "    texture (mean):                       9.71   39.28\n",
            "    perimeter (mean):                     43.79  188.5\n",
            "    area (mean):                          143.5  2501.0\n",
            "    smoothness (mean):                    0.053  0.163\n",
            "    compactness (mean):                   0.019  0.345\n",
            "    concavity (mean):                     0.0    0.427\n",
            "    concave points (mean):                0.0    0.201\n",
            "    symmetry (mean):                      0.106  0.304\n",
            "    fractal dimension (mean):             0.05   0.097\n",
            "    radius (standard error):              0.112  2.873\n",
            "    texture (standard error):             0.36   4.885\n",
            "    perimeter (standard error):           0.757  21.98\n",
            "    area (standard error):                6.802  542.2\n",
            "    smoothness (standard error):          0.002  0.031\n",
            "    compactness (standard error):         0.002  0.135\n",
            "    concavity (standard error):           0.0    0.396\n",
            "    concave points (standard error):      0.0    0.053\n",
            "    symmetry (standard error):            0.008  0.079\n",
            "    fractal dimension (standard error):   0.001  0.03\n",
            "    radius (worst):                       7.93   36.04\n",
            "    texture (worst):                      12.02  49.54\n",
            "    perimeter (worst):                    50.41  251.2\n",
            "    area (worst):                         185.2  4254.0\n",
            "    smoothness (worst):                   0.071  0.223\n",
            "    compactness (worst):                  0.027  1.058\n",
            "    concavity (worst):                    0.0    1.252\n",
            "    concave points (worst):               0.0    0.291\n",
            "    symmetry (worst):                     0.156  0.664\n",
            "    fractal dimension (worst):            0.055  0.208\n",
            "    ===================================== ====== ======\n",
            "\n",
            "    :Missing Attribute Values: None\n",
            "\n",
            "    :Class Distribution: 212 - Malignant, 357 - Benign\n",
            "\n",
            "    :Creator:  Dr. William H. Wolberg, W. Nick Street, Olvi L. Mangasarian\n",
            "\n",
            "    :Donor: Nick Street\n",
            "\n",
            "    :Date: November, 1995\n",
            "\n",
            "This is a copy of UCI ML Breast Cancer Wisconsin (Diagnostic) datasets.\n",
            "https://goo.gl/U2Uwz2\n",
            "\n",
            "Features are computed from a digitized image of a fine needle\n",
            "aspirate (FNA) of a breast mass.  They describe\n",
            "characteristics of the cell nuclei present in the image.\n",
            "\n",
            "Separating plane described above was obtained using\n",
            "Multisurface Method-Tree (MSM-T) [K. P. Bennett, \"Decision Tree\n",
            "Construction Via Linear Programming.\" Proceedings of the 4th\n",
            "Midwest Artificial Intelligence and Cognitive Science Society,\n",
            "pp. 97-101, 1992], a classification method which uses linear\n",
            "programming to construct a decision tree.  Relevant features\n",
            "were selected using an exhaustive search in the space of 1-4\n",
            "features and 1-3 separating planes.\n",
            "\n",
            "The actual linear program used to obtain the separating plane\n",
            "in the 3-dimensional space is that described in:\n",
            "[K. P. Bennett and O. L. Mangasarian: \"Robust Linear\n",
            "Programming Discrimination of Two Linearly Inseparable Sets\",\n",
            "Optimization Methods and Software 1, 1992, 23-34].\n",
            "\n",
            "This database is also available through the UW CS ftp server:\n",
            "\n",
            "ftp ftp.cs.wisc.edu\n",
            "cd math-prog/cpo-dataset/machine-learn/WDBC/\n",
            "\n",
            ".. topic:: References\n",
            "\n",
            "   - W.N. Street, W.H. Wolberg and O.L. Mangasarian. Nuclear feature extraction \n",
            "     for breast tumor diagnosis. IS&T/SPIE 1993 International Symposium on \n",
            "     Electronic Imaging: Science and Technology, volume 1905, pages 861-870,\n",
            "     San Jose, CA, 1993.\n",
            "   - O.L. Mangasarian, W.N. Street and W.H. Wolberg. Breast cancer diagnosis and \n",
            "     prognosis via linear programming. Operations Research, 43(4), pages 570-577, \n",
            "     July-August 1995.\n",
            "   - W.H. Wolberg, W.N. Street, and O.L. Mangasarian. Machine learning techniques\n",
            "     to diagnose breast cancer from fine-needle aspirates. Cancer Letters 77 (1994) \n",
            "     163-171.\n"
          ]
        }
      ],
      "source": [
        "from sklearn.datasets import load_breast_cancer\n",
        "\n",
        "print(load_breast_cancer().DESCR)"
      ]
    },
    {
      "cell_type": "code",
      "source": [
        "X, y = load_breast_cancer(return_X_y=True)\n",
        "X.shape"
      ],
      "metadata": {
        "colab": {
          "base_uri": "https://localhost:8080/"
        },
        "id": "etKCpWp4Zodr",
        "outputId": "7ebddd45-057f-4eda-e497-3c050a1d872e"
      },
      "execution_count": 2,
      "outputs": [
        {
          "output_type": "execute_result",
          "data": {
            "text/plain": [
              "(569, 30)"
            ]
          },
          "metadata": {},
          "execution_count": 2
        }
      ]
    },
    {
      "cell_type": "markdown",
      "source": [
        "### Training & Testing Set"
      ],
      "metadata": {
        "id": "M7kX4NbZZsEm"
      }
    },
    {
      "cell_type": "code",
      "source": [
        "from sklearn.model_selection import train_test_split\n",
        "\n",
        "X_train, X_test, y_train, y_test = train_test_split(X,\n",
        "                                                    y,\n",
        "                                                    test_size=0.2,\n",
        "                                                    random_state=0)\n",
        "\n",
        "print(f'X_train shape {X_train.shape}')\n",
        "print(f'X_test shape {X_test.shape}')"
      ],
      "metadata": {
        "colab": {
          "base_uri": "https://localhost:8080/"
        },
        "id": "yLyhHyV1Zeym",
        "outputId": "a73d16ae-e3c2-4d8c-d554-707fe350a502"
      },
      "execution_count": 3,
      "outputs": [
        {
          "output_type": "stream",
          "name": "stdout",
          "text": [
            "X_train shape (455, 30)\n",
            "X_test shape (114, 30)\n"
          ]
        }
      ]
    },
    {
      "cell_type": "markdown",
      "source": [
        "### Naive Bayes dengan Scikit Learn"
      ],
      "metadata": {
        "id": "J5bVP2SrZww8"
      }
    },
    {
      "cell_type": "code",
      "source": [
        "from sklearn.naive_bayes import GaussianNB\n",
        "from sklearn.metrics import accuracy_score\n",
        "\n",
        "model = GaussianNB()\n",
        "model.fit(X_train, y_train)\n",
        "y_pred = model.predict(X_test)\n",
        "accuracy_score(y_test, y_pred)"
      ],
      "metadata": {
        "colab": {
          "base_uri": "https://localhost:8080/"
        },
        "id": "A5awjn9RZzaV",
        "outputId": "2d23cc37-78ae-4691-bb0b-826b21bea6be"
      },
      "execution_count": 4,
      "outputs": [
        {
          "output_type": "execute_result",
          "data": {
            "text/plain": [
              "0.9298245614035088"
            ]
          },
          "metadata": {},
          "execution_count": 4
        }
      ]
    },
    {
      "cell_type": "code",
      "source": [
        "model.score(X_test, y_test)"
      ],
      "metadata": {
        "colab": {
          "base_uri": "https://localhost:8080/"
        },
        "id": "dwlLEb01Z1Z9",
        "outputId": "412b3be1-3a3c-4593-c0e4-2b7e65a44569"
      },
      "execution_count": 5,
      "outputs": [
        {
          "output_type": "execute_result",
          "data": {
            "text/plain": [
              "0.9298245614035088"
            ]
          },
          "metadata": {},
          "execution_count": 5
        }
      ]
    }
  ]
}